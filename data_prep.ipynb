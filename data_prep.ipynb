{
 "cells": [
  {
   "cell_type": "code",
   "execution_count": 2,
   "id": "ab8926b0",
   "metadata": {},
   "outputs": [
    {
     "name": "stderr",
     "output_type": "stream",
     "text": [
      "[nltk_data] Downloading package stopwords to\n",
      "[nltk_data]     C:\\Users\\1998a\\AppData\\Roaming\\nltk_data...\n",
      "[nltk_data]   Package stopwords is already up-to-date!\n",
      "[nltk_data] Downloading package wordnet to\n",
      "[nltk_data]     C:\\Users\\1998a\\AppData\\Roaming\\nltk_data...\n",
      "[nltk_data]   Package wordnet is already up-to-date!\n"
     ]
    },
    {
     "data": {
      "text/plain": [
       "True"
      ]
     },
     "execution_count": 2,
     "metadata": {},
     "output_type": "execute_result"
    }
   ],
   "source": [
    "# Step 1: Import libraries\n",
    "import pandas as pd\n",
    "import numpy as np\n",
    "import matplotlib.pyplot as plt\n",
    "import seaborn as sns\n",
    "from sklearn.cluster import KMeans\n",
    "from sklearn.preprocessing import StandardScaler\n",
    "import re\n",
    "import nltk\n",
    "from nltk.corpus import stopwords\n",
    "from nltk.stem import WordNetLemmatizer\n",
    "\n",
    "nltk.download('stopwords')\n",
    "nltk.download('wordnet')"
   ]
  },
  {
   "cell_type": "code",
   "execution_count": 3,
   "id": "1b60ac55",
   "metadata": {},
   "outputs": [
    {
     "data": {
      "text/html": [
       "<div>\n",
       "<style scoped>\n",
       "    .dataframe tbody tr th:only-of-type {\n",
       "        vertical-align: middle;\n",
       "    }\n",
       "\n",
       "    .dataframe tbody tr th {\n",
       "        vertical-align: top;\n",
       "    }\n",
       "\n",
       "    .dataframe thead th {\n",
       "        text-align: right;\n",
       "    }\n",
       "</style>\n",
       "<table border=\"1\" class=\"dataframe\">\n",
       "  <thead>\n",
       "    <tr style=\"text-align: right;\">\n",
       "      <th></th>\n",
       "      <th>zpid</th>\n",
       "      <th>city</th>\n",
       "      <th>streetAddress</th>\n",
       "      <th>zipcode</th>\n",
       "      <th>description</th>\n",
       "      <th>latitude</th>\n",
       "      <th>longitude</th>\n",
       "      <th>propertyTaxRate</th>\n",
       "      <th>garageSpaces</th>\n",
       "      <th>hasAssociation</th>\n",
       "      <th>...</th>\n",
       "      <th>numOfMiddleSchools</th>\n",
       "      <th>numOfHighSchools</th>\n",
       "      <th>avgSchoolDistance</th>\n",
       "      <th>avgSchoolRating</th>\n",
       "      <th>avgSchoolSize</th>\n",
       "      <th>MedianStudentsPerTeacher</th>\n",
       "      <th>numOfBathrooms</th>\n",
       "      <th>numOfBedrooms</th>\n",
       "      <th>numOfStories</th>\n",
       "      <th>homeImage</th>\n",
       "    </tr>\n",
       "  </thead>\n",
       "  <tbody>\n",
       "    <tr>\n",
       "      <th>0</th>\n",
       "      <td>111373431</td>\n",
       "      <td>pflugerville</td>\n",
       "      <td>14424 Lake Victor Dr</td>\n",
       "      <td>78660</td>\n",
       "      <td>14424 Lake Victor Dr, Pflugerville, TX 78660 i...</td>\n",
       "      <td>30.430632</td>\n",
       "      <td>-97.663078</td>\n",
       "      <td>1.98</td>\n",
       "      <td>2</td>\n",
       "      <td>True</td>\n",
       "      <td>...</td>\n",
       "      <td>1</td>\n",
       "      <td>1</td>\n",
       "      <td>1.266667</td>\n",
       "      <td>2.666667</td>\n",
       "      <td>1063</td>\n",
       "      <td>14</td>\n",
       "      <td>3.0</td>\n",
       "      <td>4</td>\n",
       "      <td>2</td>\n",
       "      <td>111373431_ffce26843283d3365c11d81b8e6bdc6f-p_f...</td>\n",
       "    </tr>\n",
       "    <tr>\n",
       "      <th>1</th>\n",
       "      <td>120900430</td>\n",
       "      <td>pflugerville</td>\n",
       "      <td>1104 Strickling Dr</td>\n",
       "      <td>78660</td>\n",
       "      <td>Absolutely GORGEOUS 4 Bedroom home with 2 full...</td>\n",
       "      <td>30.432673</td>\n",
       "      <td>-97.661697</td>\n",
       "      <td>1.98</td>\n",
       "      <td>2</td>\n",
       "      <td>True</td>\n",
       "      <td>...</td>\n",
       "      <td>1</td>\n",
       "      <td>1</td>\n",
       "      <td>1.400000</td>\n",
       "      <td>2.666667</td>\n",
       "      <td>1063</td>\n",
       "      <td>14</td>\n",
       "      <td>2.0</td>\n",
       "      <td>4</td>\n",
       "      <td>1</td>\n",
       "      <td>120900430_8255c127be8dcf0a1a18b7563d987088-p_f...</td>\n",
       "    </tr>\n",
       "  </tbody>\n",
       "</table>\n",
       "<p>2 rows × 47 columns</p>\n",
       "</div>"
      ],
      "text/plain": [
       "        zpid          city         streetAddress  zipcode  \\\n",
       "0  111373431  pflugerville  14424 Lake Victor Dr    78660   \n",
       "1  120900430  pflugerville    1104 Strickling Dr    78660   \n",
       "\n",
       "                                         description   latitude  longitude  \\\n",
       "0  14424 Lake Victor Dr, Pflugerville, TX 78660 i...  30.430632 -97.663078   \n",
       "1  Absolutely GORGEOUS 4 Bedroom home with 2 full...  30.432673 -97.661697   \n",
       "\n",
       "   propertyTaxRate  garageSpaces  hasAssociation  ...  numOfMiddleSchools  \\\n",
       "0             1.98             2            True  ...                   1   \n",
       "1             1.98             2            True  ...                   1   \n",
       "\n",
       "   numOfHighSchools  avgSchoolDistance  avgSchoolRating  avgSchoolSize  \\\n",
       "0                 1           1.266667         2.666667           1063   \n",
       "1                 1           1.400000         2.666667           1063   \n",
       "\n",
       "  MedianStudentsPerTeacher  numOfBathrooms  numOfBedrooms  numOfStories  \\\n",
       "0                       14             3.0              4             2   \n",
       "1                       14             2.0              4             1   \n",
       "\n",
       "                                           homeImage  \n",
       "0  111373431_ffce26843283d3365c11d81b8e6bdc6f-p_f...  \n",
       "1  120900430_8255c127be8dcf0a1a18b7563d987088-p_f...  \n",
       "\n",
       "[2 rows x 47 columns]"
      ]
     },
     "execution_count": 3,
     "metadata": {},
     "output_type": "execute_result"
    }
   ],
   "source": [
    "# Step 2: Data Loading\n",
    "data = pd.read_csv(\"D:/Python Projects/Multimodal Neural Net for House Price Predication/data/austinHousingData.csv\")\n",
    "data.head(2)"
   ]
  },
  {
   "cell_type": "code",
   "execution_count": 8,
   "id": "83846afc",
   "metadata": {},
   "outputs": [
    {
     "name": "stdout",
     "output_type": "stream",
     "text": [
      "<class 'pandas.core.frame.DataFrame'>\n",
      "RangeIndex: 15171 entries, 0 to 15170\n",
      "Data columns (total 47 columns):\n",
      " #   Column                      Non-Null Count  Dtype  \n",
      "---  ------                      --------------  -----  \n",
      " 0   zpid                        15171 non-null  int64  \n",
      " 1   city                        15171 non-null  object \n",
      " 2   streetAddress               15171 non-null  object \n",
      " 3   zipcode                     15171 non-null  int64  \n",
      " 4   description                 15169 non-null  object \n",
      " 5   latitude                    15171 non-null  float64\n",
      " 6   longitude                   15171 non-null  float64\n",
      " 7   propertyTaxRate             15171 non-null  float64\n",
      " 8   garageSpaces                15171 non-null  int64  \n",
      " 9   hasAssociation              15171 non-null  bool   \n",
      " 10  hasCooling                  15171 non-null  bool   \n",
      " 11  hasGarage                   15171 non-null  bool   \n",
      " 12  hasHeating                  15171 non-null  bool   \n",
      " 13  hasSpa                      15171 non-null  bool   \n",
      " 14  hasView                     15171 non-null  bool   \n",
      " 15  homeType                    15171 non-null  object \n",
      " 16  parkingSpaces               15171 non-null  int64  \n",
      " 17  yearBuilt                   15171 non-null  int64  \n",
      " 18  latestPrice                 15171 non-null  float64\n",
      " 19  numPriceChanges             15171 non-null  int64  \n",
      " 20  latest_saledate             15171 non-null  object \n",
      " 21  latest_salemonth            15171 non-null  int64  \n",
      " 22  latest_saleyear             15171 non-null  int64  \n",
      " 23  latestPriceSource           15171 non-null  object \n",
      " 24  numOfPhotos                 15171 non-null  int64  \n",
      " 25  numOfAccessibilityFeatures  15171 non-null  int64  \n",
      " 26  numOfAppliances             15171 non-null  int64  \n",
      " 27  numOfParkingFeatures        15171 non-null  int64  \n",
      " 28  numOfPatioAndPorchFeatures  15171 non-null  int64  \n",
      " 29  numOfSecurityFeatures       15171 non-null  int64  \n",
      " 30  numOfWaterfrontFeatures     15171 non-null  int64  \n",
      " 31  numOfWindowFeatures         15171 non-null  int64  \n",
      " 32  numOfCommunityFeatures      15171 non-null  int64  \n",
      " 33  lotSizeSqFt                 15171 non-null  float64\n",
      " 34  livingAreaSqFt              15171 non-null  float64\n",
      " 35  numOfPrimarySchools         15171 non-null  int64  \n",
      " 36  numOfElementarySchools      15171 non-null  int64  \n",
      " 37  numOfMiddleSchools          15171 non-null  int64  \n",
      " 38  numOfHighSchools            15171 non-null  int64  \n",
      " 39  avgSchoolDistance           15171 non-null  float64\n",
      " 40  avgSchoolRating             15171 non-null  float64\n",
      " 41  avgSchoolSize               15171 non-null  int64  \n",
      " 42  MedianStudentsPerTeacher    15171 non-null  int64  \n",
      " 43  numOfBathrooms              15171 non-null  float64\n",
      " 44  numOfBedrooms               15171 non-null  int64  \n",
      " 45  numOfStories                15171 non-null  int64  \n",
      " 46  homeImage                   15171 non-null  object \n",
      "dtypes: bool(6), float64(9), int64(25), object(7)\n",
      "memory usage: 4.8+ MB\n"
     ]
    }
   ],
   "source": [
    "data.info()"
   ]
  },
  {
   "cell_type": "code",
   "execution_count": 9,
   "id": "26190ffe",
   "metadata": {},
   "outputs": [
    {
     "data": {
      "text/html": [
       "<div>\n",
       "<style scoped>\n",
       "    .dataframe tbody tr th:only-of-type {\n",
       "        vertical-align: middle;\n",
       "    }\n",
       "\n",
       "    .dataframe tbody tr th {\n",
       "        vertical-align: top;\n",
       "    }\n",
       "\n",
       "    .dataframe thead th {\n",
       "        text-align: right;\n",
       "    }\n",
       "</style>\n",
       "<table border=\"1\" class=\"dataframe\">\n",
       "  <thead>\n",
       "    <tr style=\"text-align: right;\">\n",
       "      <th></th>\n",
       "      <th>yearBuilt</th>\n",
       "    </tr>\n",
       "  </thead>\n",
       "  <tbody>\n",
       "    <tr>\n",
       "      <th>0</th>\n",
       "      <td>2012</td>\n",
       "    </tr>\n",
       "    <tr>\n",
       "      <th>1</th>\n",
       "      <td>2013</td>\n",
       "    </tr>\n",
       "    <tr>\n",
       "      <th>2</th>\n",
       "      <td>2018</td>\n",
       "    </tr>\n",
       "    <tr>\n",
       "      <th>3</th>\n",
       "      <td>2013</td>\n",
       "    </tr>\n",
       "    <tr>\n",
       "      <th>4</th>\n",
       "      <td>2002</td>\n",
       "    </tr>\n",
       "    <tr>\n",
       "      <th>...</th>\n",
       "      <td>...</td>\n",
       "    </tr>\n",
       "    <tr>\n",
       "      <th>15166</th>\n",
       "      <td>1986</td>\n",
       "    </tr>\n",
       "    <tr>\n",
       "      <th>15167</th>\n",
       "      <td>2016</td>\n",
       "    </tr>\n",
       "    <tr>\n",
       "      <th>15168</th>\n",
       "      <td>1936</td>\n",
       "    </tr>\n",
       "    <tr>\n",
       "      <th>15169</th>\n",
       "      <td>1968</td>\n",
       "    </tr>\n",
       "    <tr>\n",
       "      <th>15170</th>\n",
       "      <td>1955</td>\n",
       "    </tr>\n",
       "  </tbody>\n",
       "</table>\n",
       "<p>15171 rows × 1 columns</p>\n",
       "</div>"
      ],
      "text/plain": [
       "       yearBuilt\n",
       "0           2012\n",
       "1           2013\n",
       "2           2018\n",
       "3           2013\n",
       "4           2002\n",
       "...          ...\n",
       "15166       1986\n",
       "15167       2016\n",
       "15168       1936\n",
       "15169       1968\n",
       "15170       1955\n",
       "\n",
       "[15171 rows x 1 columns]"
      ]
     },
     "execution_count": 9,
     "metadata": {},
     "output_type": "execute_result"
    }
   ],
   "source": [
    "data[[\"yearBuilt\"]]"
   ]
  },
  {
   "cell_type": "code",
   "execution_count": 10,
   "id": "5c2c2cc3",
   "metadata": {},
   "outputs": [
    {
     "data": {
      "text/plain": [
       "numOfBathrooms\n",
       "2.00              6101\n",
       "3.00              5280\n",
       "4.00              1884\n",
       "1.00               932\n",
       "5.00               408\n",
       "6.00               157\n",
       "2.50               126\n",
       "0.00               125\n",
       "7.00                61\n",
       "3.50                44\n",
       "8.00                17\n",
       "1.50                13\n",
       "4.50                 5\n",
       "10.00                5\n",
       "1.75                 3\n",
       "9.00                 2\n",
       "5.50                 2\n",
       "2.75                 2\n",
       "1.70                 1\n",
       "6.50                 1\n",
       "13.00                1\n",
       "27.00                1\n",
       "Name: count, dtype: int64"
      ]
     },
     "execution_count": 10,
     "metadata": {},
     "output_type": "execute_result"
    }
   ],
   "source": [
    "data[[\"numOfBathrooms\"]].value_counts()"
   ]
  },
  {
   "cell_type": "code",
   "execution_count": 11,
   "id": "29d4d630",
   "metadata": {},
   "outputs": [
    {
     "name": "stderr",
     "output_type": "stream",
     "text": [
      "C:\\Users\\1998a\\AppData\\Local\\Temp\\ipykernel_68408\\1552460035.py:6: FutureWarning: Setting an item of incompatible dtype is deprecated and will raise an error in a future version of pandas. Value '2.5' has dtype incompatible with int64, please explicitly cast to a compatible dtype first.\n",
      "  data.loc[(data['numOfBedrooms'] == 0) & (data['yearBuilt'] > 1989), 'numOfBedrooms'] = 2.5\n"
     ]
    }
   ],
   "source": [
    "# Step 3: Apply bathroom and bedroom transformation\n",
    "\n",
    "data.loc[(data['numOfBathrooms'] == 0) & (data['yearBuilt'] > 1989), 'numOfBathrooms'] = 2\n",
    "data.loc[(data['numOfBathrooms'] == 0) & (data['yearBuilt'] <= 1989), 'numOfBathrooms'] = 1\n",
    "\n",
    "data.loc[(data['numOfBedrooms'] == 0) & (data['yearBuilt'] > 1989), 'numOfBedrooms'] = 2.5\n",
    "data.loc[(data['numOfBedrooms'] == 0) & (data['yearBuilt'] <= 1989), 'numOfBedrooms'] = 2"
   ]
  },
  {
   "cell_type": "code",
   "execution_count": 12,
   "id": "eddc2ac4",
   "metadata": {},
   "outputs": [
    {
     "data": {
      "text/plain": [
       "numOfBedrooms\n",
       "3.0              7440\n",
       "4.0              5190\n",
       "5.0              1171\n",
       "2.0              1098\n",
       "6.0               128\n",
       "1.0                98\n",
       "8.0                18\n",
       "2.5                13\n",
       "7.0                13\n",
       "10.0                1\n",
       "20.0                1\n",
       "Name: count, dtype: int64"
      ]
     },
     "execution_count": 12,
     "metadata": {},
     "output_type": "execute_result"
    }
   ],
   "source": [
    "data[[\"numOfBedrooms\"]].value_counts()"
   ]
  },
  {
   "cell_type": "code",
   "execution_count": 13,
   "id": "7aeb872c",
   "metadata": {},
   "outputs": [
    {
     "data": {
      "text/plain": [
       "homeType             \n",
       "Single Family            14241\n",
       "Condo                      470\n",
       "Townhouse                  174\n",
       "Multiple Occupancy          96\n",
       "Vacant Land                 83\n",
       "Apartment                   37\n",
       "Residential                 37\n",
       "Mobile / Manufactured       17\n",
       "MultiFamily                 10\n",
       "Other                        6\n",
       "Name: count, dtype: int64"
      ]
     },
     "execution_count": 13,
     "metadata": {},
     "output_type": "execute_result"
    }
   ],
   "source": [
    "data[[\"homeType\"]].value_counts()"
   ]
  },
  {
   "cell_type": "code",
   "execution_count": 14,
   "id": "28f2b1af",
   "metadata": {},
   "outputs": [
    {
     "data": {
      "text/html": [
       "<div>\n",
       "<style scoped>\n",
       "    .dataframe tbody tr th:only-of-type {\n",
       "        vertical-align: middle;\n",
       "    }\n",
       "\n",
       "    .dataframe tbody tr th {\n",
       "        vertical-align: top;\n",
       "    }\n",
       "\n",
       "    .dataframe thead th {\n",
       "        text-align: right;\n",
       "    }\n",
       "</style>\n",
       "<table border=\"1\" class=\"dataframe\">\n",
       "  <thead>\n",
       "    <tr style=\"text-align: right;\">\n",
       "      <th></th>\n",
       "      <th>latestPrice</th>\n",
       "    </tr>\n",
       "  </thead>\n",
       "  <tbody>\n",
       "    <tr>\n",
       "      <th>0</th>\n",
       "      <td>305000.0</td>\n",
       "    </tr>\n",
       "    <tr>\n",
       "      <th>1</th>\n",
       "      <td>295000.0</td>\n",
       "    </tr>\n",
       "    <tr>\n",
       "      <th>2</th>\n",
       "      <td>256125.0</td>\n",
       "    </tr>\n",
       "    <tr>\n",
       "      <th>3</th>\n",
       "      <td>240000.0</td>\n",
       "    </tr>\n",
       "    <tr>\n",
       "      <th>4</th>\n",
       "      <td>239900.0</td>\n",
       "    </tr>\n",
       "    <tr>\n",
       "      <th>...</th>\n",
       "      <td>...</td>\n",
       "    </tr>\n",
       "    <tr>\n",
       "      <th>15166</th>\n",
       "      <td>330000.0</td>\n",
       "    </tr>\n",
       "    <tr>\n",
       "      <th>15167</th>\n",
       "      <td>550000.0</td>\n",
       "    </tr>\n",
       "    <tr>\n",
       "      <th>15168</th>\n",
       "      <td>875000.0</td>\n",
       "    </tr>\n",
       "    <tr>\n",
       "      <th>15169</th>\n",
       "      <td>420000.0</td>\n",
       "    </tr>\n",
       "    <tr>\n",
       "      <th>15170</th>\n",
       "      <td>374900.0</td>\n",
       "    </tr>\n",
       "  </tbody>\n",
       "</table>\n",
       "<p>15171 rows × 1 columns</p>\n",
       "</div>"
      ],
      "text/plain": [
       "       latestPrice\n",
       "0         305000.0\n",
       "1         295000.0\n",
       "2         256125.0\n",
       "3         240000.0\n",
       "4         239900.0\n",
       "...            ...\n",
       "15166     330000.0\n",
       "15167     550000.0\n",
       "15168     875000.0\n",
       "15169     420000.0\n",
       "15170     374900.0\n",
       "\n",
       "[15171 rows x 1 columns]"
      ]
     },
     "execution_count": 14,
     "metadata": {},
     "output_type": "execute_result"
    }
   ],
   "source": [
    "data[[\"latestPrice\"]]"
   ]
  },
  {
   "cell_type": "code",
   "execution_count": 15,
   "id": "1846dd1f",
   "metadata": {},
   "outputs": [
    {
     "data": {
      "text/plain": [
       "garageSpaces\n",
       "0               6826\n",
       "2               5508\n",
       "1               1098\n",
       "3                938\n",
       "4                581\n",
       "6                 99\n",
       "5                 74\n",
       "8                 17\n",
       "7                 11\n",
       "10                 9\n",
       "12                 5\n",
       "9                  3\n",
       "20                 1\n",
       "22                 1\n",
       "Name: count, dtype: int64"
      ]
     },
     "execution_count": 15,
     "metadata": {},
     "output_type": "execute_result"
    }
   ],
   "source": [
    "data[[\"garageSpaces\"]].value_counts()"
   ]
  },
  {
   "cell_type": "code",
   "execution_count": 16,
   "id": "e5b32864",
   "metadata": {},
   "outputs": [],
   "source": [
    "# step 4: Cap garageSpaces and parkingSpaces\n",
    "condition = (data['latestPrice'] < 1000000) & (data['homeType'] == \"Single Family\")\n",
    "data.loc[condition, 'garageSpaces'] = data.loc[condition, 'garageSpaces'].clip(upper=3)\n",
    "data.loc[condition, 'parkingSpaces'] = data.loc[condition, 'parkingSpaces'].clip(upper=3)"
   ]
  },
  {
   "cell_type": "code",
   "execution_count": 17,
   "id": "b57920f5",
   "metadata": {},
   "outputs": [],
   "source": [
    "# steps 5: Drop outliers in lotSizeSqFt and livingAreaSqFt\n",
    "for col in ['lotSizeSqFt', 'livingAreaSqFt']:\n",
    "    data = data[data[col] > 0]\n",
    "    Q1 = data[col].quantile(0.25)\n",
    "    Q3 = data[col].quantile(0.75)\n",
    "    IQR = Q3 - Q1\n",
    "    upper = Q3 + 1.6 * IQR\n",
    "    lower = Q1 - 1.6 * IQR\n",
    "    data = data[(data[col] >= lower) & (data[col] <= upper)]"
   ]
  },
  {
   "cell_type": "code",
   "execution_count": 18,
   "id": "9167ccb5",
   "metadata": {},
   "outputs": [
    {
     "data": {
      "text/plain": [
       "np.int64(13713)"
      ]
     },
     "execution_count": 18,
     "metadata": {},
     "output_type": "execute_result"
    }
   ],
   "source": [
    "data[[\"lotSizeSqFt\"]].value_counts().sum()"
   ]
  },
  {
   "cell_type": "code",
   "execution_count": 19,
   "id": "42fb7f99",
   "metadata": {},
   "outputs": [
    {
     "data": {
      "text/plain": [
       "np.int64(13713)"
      ]
     },
     "execution_count": 19,
     "metadata": {},
     "output_type": "execute_result"
    }
   ],
   "source": [
    "data[[\"livingAreaSqFt\"]].value_counts().sum()"
   ]
  },
  {
   "cell_type": "code",
   "execution_count": 20,
   "id": "27a1c75f",
   "metadata": {},
   "outputs": [],
   "source": [
    "# Steps 6: Adjust price for inflation (placeholder logic)\n",
    "def adjust_inflation(price, year):\n",
    "    inflation_rate = 0.03  # 3% yearly inflation\n",
    "    years_passed = 2025 - year\n",
    "    return round(price * ((1 + inflation_rate) ** years_passed), 2)"
   ]
  },
  {
   "cell_type": "code",
   "execution_count": 21,
   "id": "440e956b",
   "metadata": {},
   "outputs": [],
   "source": [
    "data['newPrice'] = data.apply(lambda x: adjust_inflation(x['latestPrice'], x['latest_saleyear']), axis=1)"
   ]
  },
  {
   "cell_type": "code",
   "execution_count": 22,
   "id": "e8cdf93c",
   "metadata": {},
   "outputs": [
    {
     "data": {
      "text/plain": [
       "latest_saleyear\n",
       "2020    4895\n",
       "2019    4783\n",
       "2018    3960\n",
       "2021      75\n",
       "Name: count, dtype: int64"
      ]
     },
     "execution_count": 22,
     "metadata": {},
     "output_type": "execute_result"
    }
   ],
   "source": [
    "data[\"latest_saleyear\"].value_counts()"
   ]
  },
  {
   "cell_type": "code",
   "execution_count": 23,
   "id": "fb84e4e5",
   "metadata": {},
   "outputs": [],
   "source": [
    "# Step 7: Drop invalid latitude values\n",
    "data = data[data['latitude'] > 30.12]"
   ]
  },
  {
   "cell_type": "code",
   "execution_count": 24,
   "id": "155c3a83",
   "metadata": {},
   "outputs": [],
   "source": [
    "# step 8: Drop out-of-Austin zipcodes (placeholder - use actual zip list)\n",
    "valid_zipcodes = [\n",
    "    73301, 73344, 78617, 78652, 78653, 78660, 78701, 78702, 78703, \n",
    "    78704, 78705, 78717, 78719, 78721, 78722, 78723, 78724, 78725, \n",
    "    78726, 78727, 78728, 78729, 78730, 78731, 78732, 78733, 78734, \n",
    "    78735, 78736, 78737, 78738, 78739, 78741, 78742, 78744, 78745, \n",
    "    78746, 78747, 78748, 78749, 78750, 78751, 78752, 78753, 78754, \n",
    "    78756, 78757, 78758, 78759\n",
    "]  # list of valid zipcodes in Austin\n",
    "\n",
    "data = data[data['zipcode'].isin(valid_zipcodes)]"
   ]
  },
  {
   "cell_type": "code",
   "execution_count": null,
   "id": "a953d176",
   "metadata": {},
   "outputs": [],
   "source": [
    "data[[\"\"]]"
   ]
  },
  {
   "cell_type": "code",
   "execution_count": 26,
   "id": "01112c60",
   "metadata": {},
   "outputs": [],
   "source": [
    "# Cell 10: Convert feature counts > 0 to binary\n",
    "feature_cols = [\n",
    "    'numOfAccessibilityFeatures', 'numOfPatioAndPorchFeatures', 'numOfSecurityFeatures',\n",
    "    'numOfWaterfrontFeatures', 'numOfWindowFeatures', 'numOfCommunityFeatures'\n",
    "]\n",
    "for col in feature_cols:\n",
    "    data[col] = (data[col] > 0).astype(int)"
   ]
  },
  {
   "cell_type": "code",
   "execution_count": 27,
   "id": "ef809d00",
   "metadata": {},
   "outputs": [
    {
     "data": {
      "text/html": [
       "<div>\n",
       "<style scoped>\n",
       "    .dataframe tbody tr th:only-of-type {\n",
       "        vertical-align: middle;\n",
       "    }\n",
       "\n",
       "    .dataframe tbody tr th {\n",
       "        vertical-align: top;\n",
       "    }\n",
       "\n",
       "    .dataframe thead th {\n",
       "        text-align: right;\n",
       "    }\n",
       "</style>\n",
       "<table border=\"1\" class=\"dataframe\">\n",
       "  <thead>\n",
       "    <tr style=\"text-align: right;\">\n",
       "      <th></th>\n",
       "      <th>streetAddress</th>\n",
       "    </tr>\n",
       "  </thead>\n",
       "  <tbody>\n",
       "    <tr>\n",
       "      <th>0</th>\n",
       "      <td>14424 Lake Victor Dr</td>\n",
       "    </tr>\n",
       "    <tr>\n",
       "      <th>1</th>\n",
       "      <td>1104 Strickling Dr</td>\n",
       "    </tr>\n",
       "    <tr>\n",
       "      <th>2</th>\n",
       "      <td>1408 Fort Dessau Rd</td>\n",
       "    </tr>\n",
       "    <tr>\n",
       "      <th>3</th>\n",
       "      <td>1025 Strickling Dr</td>\n",
       "    </tr>\n",
       "    <tr>\n",
       "      <th>4</th>\n",
       "      <td>15005 Donna Jane Loop</td>\n",
       "    </tr>\n",
       "    <tr>\n",
       "      <th>...</th>\n",
       "      <td>...</td>\n",
       "    </tr>\n",
       "    <tr>\n",
       "      <th>15165</th>\n",
       "      <td>9013 Marsh Dr</td>\n",
       "    </tr>\n",
       "    <tr>\n",
       "      <th>15166</th>\n",
       "      <td>905 Silcantu Dr</td>\n",
       "    </tr>\n",
       "    <tr>\n",
       "      <th>15167</th>\n",
       "      <td>1413 Waterloo Shore Ln UNIT 12</td>\n",
       "    </tr>\n",
       "    <tr>\n",
       "      <th>15168</th>\n",
       "      <td>2206 S 3rd St</td>\n",
       "    </tr>\n",
       "    <tr>\n",
       "      <th>15170</th>\n",
       "      <td>3110 E 12th St</td>\n",
       "    </tr>\n",
       "  </tbody>\n",
       "</table>\n",
       "<p>13713 rows × 1 columns</p>\n",
       "</div>"
      ],
      "text/plain": [
       "                        streetAddress\n",
       "0                14424 Lake Victor Dr\n",
       "1                  1104 Strickling Dr\n",
       "2                 1408 Fort Dessau Rd\n",
       "3                  1025 Strickling Dr\n",
       "4               15005 Donna Jane Loop\n",
       "...                               ...\n",
       "15165                   9013 Marsh Dr\n",
       "15166                 905 Silcantu Dr\n",
       "15167  1413 Waterloo Shore Ln UNIT 12\n",
       "15168                   2206 S 3rd St\n",
       "15170                  3110 E 12th St\n",
       "\n",
       "[13713 rows x 1 columns]"
      ]
     },
     "execution_count": 27,
     "metadata": {},
     "output_type": "execute_result"
    }
   ],
   "source": [
    "data[[\"streetAddress\"]]"
   ]
  },
  {
   "cell_type": "code",
   "execution_count": null,
   "id": "147b5d2b",
   "metadata": {},
   "outputs": [],
   "source": [
    "# Cell 10: Extract address type from streetAddress\n",
    "def extract_street_type(address):\n",
    "    types = ['drive', 'lane', 'street', 'cove', 'road', 'avenue', 'trail', 'circle', 'court', 'way', 'dr', 'ln', 'rd', 'st']\n",
    "    if pd.isna(address): return 'unknown'\n",
    "    address = address.lower()\n",
    "    for t in types:\n",
    "        if t in address:\n",
    "            return t\n",
    "    return 'other'\n",
    "\n",
    "data['streetType'] = data['streetAddress'].apply(extract_street_type)"
   ]
  },
  {
   "cell_type": "code",
   "execution_count": 35,
   "id": "bccb5b28",
   "metadata": {},
   "outputs": [
    {
     "data": {
      "text/plain": [
       "streetType\n",
       "other         13112\n",
       "way             412\n",
       "avenue           60\n",
       "road             36\n",
       "trail            26\n",
       "cove             25\n",
       "circle           15\n",
       "court            14\n",
       "lane             13\n",
       "Name: count, dtype: int64"
      ]
     },
     "execution_count": 35,
     "metadata": {},
     "output_type": "execute_result"
    }
   ],
   "source": [
    "data[[\"streetType\"]].value_counts()"
   ]
  },
  {
   "cell_type": "code",
   "execution_count": 33,
   "id": "9b5c51d7",
   "metadata": {},
   "outputs": [
    {
     "data": {
      "text/html": [
       "<div>\n",
       "<style scoped>\n",
       "    .dataframe tbody tr th:only-of-type {\n",
       "        vertical-align: middle;\n",
       "    }\n",
       "\n",
       "    .dataframe tbody tr th {\n",
       "        vertical-align: top;\n",
       "    }\n",
       "\n",
       "    .dataframe thead th {\n",
       "        text-align: right;\n",
       "    }\n",
       "</style>\n",
       "<table border=\"1\" class=\"dataframe\">\n",
       "  <thead>\n",
       "    <tr style=\"text-align: right;\">\n",
       "      <th></th>\n",
       "      <th>streetAddress</th>\n",
       "      <th>streetType</th>\n",
       "    </tr>\n",
       "  </thead>\n",
       "  <tbody>\n",
       "    <tr>\n",
       "      <th>0</th>\n",
       "      <td>14424 Lake Victor Dr</td>\n",
       "      <td>other</td>\n",
       "    </tr>\n",
       "    <tr>\n",
       "      <th>1</th>\n",
       "      <td>1104 Strickling Dr</td>\n",
       "      <td>other</td>\n",
       "    </tr>\n",
       "    <tr>\n",
       "      <th>2</th>\n",
       "      <td>1408 Fort Dessau Rd</td>\n",
       "      <td>other</td>\n",
       "    </tr>\n",
       "    <tr>\n",
       "      <th>3</th>\n",
       "      <td>1025 Strickling Dr</td>\n",
       "      <td>other</td>\n",
       "    </tr>\n",
       "    <tr>\n",
       "      <th>4</th>\n",
       "      <td>15005 Donna Jane Loop</td>\n",
       "      <td>other</td>\n",
       "    </tr>\n",
       "    <tr>\n",
       "      <th>...</th>\n",
       "      <td>...</td>\n",
       "      <td>...</td>\n",
       "    </tr>\n",
       "    <tr>\n",
       "      <th>15165</th>\n",
       "      <td>9013 Marsh Dr</td>\n",
       "      <td>other</td>\n",
       "    </tr>\n",
       "    <tr>\n",
       "      <th>15166</th>\n",
       "      <td>905 Silcantu Dr</td>\n",
       "      <td>other</td>\n",
       "    </tr>\n",
       "    <tr>\n",
       "      <th>15167</th>\n",
       "      <td>1413 Waterloo Shore Ln UNIT 12</td>\n",
       "      <td>other</td>\n",
       "    </tr>\n",
       "    <tr>\n",
       "      <th>15168</th>\n",
       "      <td>2206 S 3rd St</td>\n",
       "      <td>other</td>\n",
       "    </tr>\n",
       "    <tr>\n",
       "      <th>15170</th>\n",
       "      <td>3110 E 12th St</td>\n",
       "      <td>other</td>\n",
       "    </tr>\n",
       "  </tbody>\n",
       "</table>\n",
       "<p>13713 rows × 2 columns</p>\n",
       "</div>"
      ],
      "text/plain": [
       "                        streetAddress streetType\n",
       "0                14424 Lake Victor Dr      other\n",
       "1                  1104 Strickling Dr      other\n",
       "2                 1408 Fort Dessau Rd      other\n",
       "3                  1025 Strickling Dr      other\n",
       "4               15005 Donna Jane Loop      other\n",
       "...                               ...        ...\n",
       "15165                   9013 Marsh Dr      other\n",
       "15166                 905 Silcantu Dr      other\n",
       "15167  1413 Waterloo Shore Ln UNIT 12      other\n",
       "15168                   2206 S 3rd St      other\n",
       "15170                  3110 E 12th St      other\n",
       "\n",
       "[13713 rows x 2 columns]"
      ]
     },
     "execution_count": 33,
     "metadata": {},
     "output_type": "execute_result"
    }
   ],
   "source": [
    "data[[\"streetAddress\", \"streetType\"]]"
   ]
  },
  {
   "cell_type": "code",
   "execution_count": 7,
   "id": "16fe1be9",
   "metadata": {},
   "outputs": [
    {
     "data": {
      "text/html": [
       "<div>\n",
       "<style scoped>\n",
       "    .dataframe tbody tr th:only-of-type {\n",
       "        vertical-align: middle;\n",
       "    }\n",
       "\n",
       "    .dataframe tbody tr th {\n",
       "        vertical-align: top;\n",
       "    }\n",
       "\n",
       "    .dataframe thead th {\n",
       "        text-align: right;\n",
       "    }\n",
       "</style>\n",
       "<table border=\"1\" class=\"dataframe\">\n",
       "  <thead>\n",
       "    <tr style=\"text-align: right;\">\n",
       "      <th></th>\n",
       "      <th>description</th>\n",
       "    </tr>\n",
       "  </thead>\n",
       "  <tbody>\n",
       "    <tr>\n",
       "      <th>0</th>\n",
       "      <td>14424 Lake Victor Dr, Pflugerville, TX 78660 i...</td>\n",
       "    </tr>\n",
       "    <tr>\n",
       "      <th>1</th>\n",
       "      <td>Absolutely GORGEOUS 4 Bedroom home with 2 full...</td>\n",
       "    </tr>\n",
       "    <tr>\n",
       "      <th>2</th>\n",
       "      <td>Under construction - estimated completion in A...</td>\n",
       "    </tr>\n",
       "    <tr>\n",
       "      <th>3</th>\n",
       "      <td>Absolutely darling one story home in charming ...</td>\n",
       "    </tr>\n",
       "    <tr>\n",
       "      <th>4</th>\n",
       "      <td>Brimming with appeal &amp; warm livability! Sleek ...</td>\n",
       "    </tr>\n",
       "    <tr>\n",
       "      <th>...</th>\n",
       "      <td>...</td>\n",
       "    </tr>\n",
       "    <tr>\n",
       "      <th>15166</th>\n",
       "      <td>Not for rent!\\n\\nBeautiful one story home in T...</td>\n",
       "    </tr>\n",
       "    <tr>\n",
       "      <th>15167</th>\n",
       "      <td>This contemporary three-story detached condo h...</td>\n",
       "    </tr>\n",
       "    <tr>\n",
       "      <th>15168</th>\n",
       "      <td>Original bungalow with a modern addition. Larg...</td>\n",
       "    </tr>\n",
       "    <tr>\n",
       "      <th>15169</th>\n",
       "      <td>So many options at this address in the eclecti...</td>\n",
       "    </tr>\n",
       "    <tr>\n",
       "      <th>15170</th>\n",
       "      <td>3110 E 12th St, Austin, TX 78702 is a single f...</td>\n",
       "    </tr>\n",
       "  </tbody>\n",
       "</table>\n",
       "<p>15171 rows × 1 columns</p>\n",
       "</div>"
      ],
      "text/plain": [
       "                                             description\n",
       "0      14424 Lake Victor Dr, Pflugerville, TX 78660 i...\n",
       "1      Absolutely GORGEOUS 4 Bedroom home with 2 full...\n",
       "2      Under construction - estimated completion in A...\n",
       "3      Absolutely darling one story home in charming ...\n",
       "4      Brimming with appeal & warm livability! Sleek ...\n",
       "...                                                  ...\n",
       "15166  Not for rent!\\n\\nBeautiful one story home in T...\n",
       "15167  This contemporary three-story detached condo h...\n",
       "15168  Original bungalow with a modern addition. Larg...\n",
       "15169  So many options at this address in the eclecti...\n",
       "15170  3110 E 12th St, Austin, TX 78702 is a single f...\n",
       "\n",
       "[15171 rows x 1 columns]"
      ]
     },
     "execution_count": 7,
     "metadata": {},
     "output_type": "execute_result"
    }
   ],
   "source": [
    "data[[\"description\"]]"
   ]
  },
  {
   "cell_type": "code",
   "execution_count": null,
   "id": "ba362854",
   "metadata": {},
   "outputs": [],
   "source": [
    "# Step 11: Clean description text\n",
    "lemmatizer = WordNetLemmatizer()\n",
    "stop_words = set(stopwords.words('english'))\n",
    "\n",
    "def clean_text(text):\n",
    "    if pd.isna(text): return \"\"\n",
    "    text = re.sub(r'[^a-zA-Z ]', '', text)\n",
    "    text = text.lower()\n",
    "    words = text.split()\n",
    "    words = [lemmatizer.lemmatize(word) for word in words if word not in stop_words]\n",
    "    return ' '.join(words)\n",
    "\n",
    "data['clean_description'] = data['description'].apply(clean_text)"
   ]
  },
  {
   "cell_type": "code",
   "execution_count": null,
   "id": "6ec54f68",
   "metadata": {},
   "outputs": [],
   "source": [
    "# Step 12: Geospatial clustering (latitude & longitude)\n",
    "coords = data[['latitude', 'longitude']].dropna()\n",
    "scaler = StandardScaler()\n",
    "coords_scaled = scaler.fit_transform(coords)\n",
    "\n",
    "kmeans = KMeans(n_clusters=5, random_state=0)\n",
    "data.loc[coords.index, 'geo_cluster'] = kmeans.fit_predict(coords_scaled)"
   ]
  },
  {
   "cell_type": "code",
   "execution_count": null,
   "id": "145fac1b",
   "metadata": {},
   "outputs": [],
   "source": [
    "# Step 13: Map census data using zipcode\n",
    "# Placeholder mapping\n",
    "census_data = pd.read_csv(\"census_data.csv\")  # should contain zipcode + columns like crime_rate, income, etc.\n",
    "df = data.merge(census_data, on='zipcode', how='left')"
   ]
  },
  {
   "cell_type": "code",
   "execution_count": null,
   "id": "46dbc9da",
   "metadata": {},
   "outputs": [],
   "source": [
    "# Cell 14: Save cleaned dataset\n",
    "df.to_csv(\"cleaned_dataset.csv\", index=False)"
   ]
  }
 ],
 "metadata": {
  "kernelspec": {
   "display_name": "multimodal",
   "language": "python",
   "name": "python3"
  },
  "language_info": {
   "codemirror_mode": {
    "name": "ipython",
    "version": 3
   },
   "file_extension": ".py",
   "mimetype": "text/x-python",
   "name": "python",
   "nbconvert_exporter": "python",
   "pygments_lexer": "ipython3",
   "version": "3.11.11"
  }
 },
 "nbformat": 4,
 "nbformat_minor": 5
}
